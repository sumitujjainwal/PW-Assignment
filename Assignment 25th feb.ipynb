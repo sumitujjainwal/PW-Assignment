{
 "cells": [
  {
   "cell_type": "markdown",
   "id": "ded9b53b",
   "metadata": {},
   "source": [
    "Consider following code to answer further questions:\n",
    "\n",
    "import pandas as pd\n",
    "\n",
    "course_name = [‘Data Science’, ‘Machine Learning’, ‘Big Data’, ‘Data Engineer’]\n",
    "\n",
    "duration = [2,3,6,4]\n",
    "\n",
    "df = pd.DataFrame(data = {‘course_name’ : course_name, ‘duration’ : duration})"
   ]
  },
  {
   "cell_type": "code",
   "execution_count": 2,
   "id": "8627851d",
   "metadata": {},
   "outputs": [],
   "source": [
    "import pandas as pd"
   ]
  },
  {
   "cell_type": "markdown",
   "id": "f0433394",
   "metadata": {},
   "source": [
    "### Q1. Write a code to print the data present in the second row of the dataframe, df."
   ]
  },
  {
   "cell_type": "code",
   "execution_count": 15,
   "id": "d1becb36",
   "metadata": {},
   "outputs": [
    {
     "data": {
      "text/plain": [
       "course_name    Machine Learning\n",
       "duration                      3\n",
       "Name: 1, dtype: object"
      ]
     },
     "execution_count": 15,
     "metadata": {},
     "output_type": "execute_result"
    }
   ],
   "source": [
    "course_name = ['Data Science', 'Machine Learning', 'Big Data', 'Data Engineer']\n",
    "\n",
    "duration = [2,3,6,4]\n",
    "\n",
    "df = pd.DataFrame(data = {'course_name' : course_name, 'duration' : duration})\n",
    "\n",
    "df.iloc[1]"
   ]
  },
  {
   "cell_type": "markdown",
   "id": "c7ac7928",
   "metadata": {},
   "source": [
    "### Q2. What is the difference between the functions loc and iloc in pandas.DataFrame?"
   ]
  },
  {
   "cell_type": "markdown",
   "id": "10236a97",
   "metadata": {},
   "source": [
    "Ans. Both loc and iloc are used to access rows and columns in a pandas DataFrame. However, the main difference between the two is the way they reference the data.\n",
    "\n",
    "loc is label-based, which means that you use the row and column labels to select data. You can pass a single label or a list of labels to loc to select rows and columns\n",
    "\n",
    "iloc, on the other hand, is integer-based, which means that you use the integer position of the rows and columns to select data. You can pass a single integer, a list of integers, or a range of integers to iloc."
   ]
  },
  {
   "cell_type": "markdown",
   "id": "7ce0ec29",
   "metadata": {},
   "source": [
    "### Q3. Reindex the given dataframe using a variable, reindex = [3,0,1,2] and store it in the variable, new_df then find the output for both new_df.loc[2] and new_df.iloc[2].\n",
    "\n",
    "### Did you observe any difference in both the outputs? If so then explain it.\n",
    "\n",
    "### Consider the below code to answer further questions:\n",
    "\n",
    "import pandas as pd\n",
    "\n",
    "import numpy as np\n",
    "\n",
    "columns = ['column_1', 'column_2', 'column_3', 'column_4', 'column_5', 'column_6']\n",
    "\n",
    "indices = [1,2,3,4,5,6]\n",
    "\n",
    "#Creating a dataframe:\n",
    "\n",
    "df1 = pd.DataFrame(np.random.rand(6,6), columns = columns, index = indices)"
   ]
  },
  {
   "cell_type": "code",
   "execution_count": 26,
   "id": "5251cdcd",
   "metadata": {},
   "outputs": [
    {
     "name": "stdout",
     "output_type": "stream",
     "text": [
      "   column_1  column_2  column_3  column_4  column_5  column_6\n",
      "3  0.844261  0.617201  0.305103  0.762637  0.320231  0.494153\n",
      "0       NaN       NaN       NaN       NaN       NaN       NaN\n",
      "1  0.910783  0.375219  0.638122  0.363461  0.384049  0.190529\n",
      "2  0.277601  0.287803  0.969716  0.700171  0.954945  0.582313 \n",
      "\n",
      "column_1    0.277601\n",
      "column_2    0.287803\n",
      "column_3    0.969716\n",
      "column_4    0.700171\n",
      "column_5    0.954945\n",
      "column_6    0.582313\n",
      "Name: 2, dtype: float64 \n",
      "\n",
      "column_1    0.910783\n",
      "column_2    0.375219\n",
      "column_3    0.638122\n",
      "column_4    0.363461\n",
      "column_5    0.384049\n",
      "column_6    0.190529\n",
      "Name: 1, dtype: float64\n"
     ]
    }
   ],
   "source": [
    "import numpy as np\n",
    "\n",
    "columns = ['column_1', 'column_2', 'column_3', 'column_4', 'column_5', 'column_6']\n",
    "\n",
    "indices = [1,2,3,4,5,6]\n",
    "\n",
    "df1 = pd.DataFrame(np.random.rand(6,6), columns = columns, index = indices)\n",
    "reindex = [3,0,1,2]\n",
    "new_df =  pd.DataFrame(df1, index = reindex)\n",
    "print(new_df,'\\n')\n",
    "print(new_df.loc[2],'\\n')\n",
    "print(new_df.iloc[2])"
   ]
  },
  {
   "cell_type": "markdown",
   "id": "999e4498",
   "metadata": {},
   "source": [
    "In general, the difference between loc and iloc is that loc uses labels to reference rows and columns, while iloc uses integer positions. When you reindex a DataFrame, the labels and integer positions may change, leading to potentially different results for loc and iloc."
   ]
  },
  {
   "cell_type": "markdown",
   "id": "61d98c13",
   "metadata": {},
   "source": [
    "### Q4. Write a code to find the following statistical measurements for the above dataframe df1:\n",
    "(i) mean of each and every column present in the dataframe.\n",
    "\n",
    "(ii) standard deviation of column, ‘column_2’"
   ]
  },
  {
   "cell_type": "code",
   "execution_count": 32,
   "id": "733c27fc",
   "metadata": {},
   "outputs": [
    {
     "name": "stdout",
     "output_type": "stream",
     "text": [
      "column_1    0.677548\n",
      "column_2    0.426741\n",
      "column_3    0.637647\n",
      "column_4    0.608756\n",
      "column_5    0.553075\n",
      "column_6    0.422332\n",
      "dtype: float64 \n",
      "\n",
      "column_1    0.347958\n",
      "column_2    0.170636\n",
      "column_3    0.332306\n",
      "column_4    0.214716\n",
      "column_5    0.349489\n",
      "column_6    0.205529\n",
      "dtype: float64\n"
     ]
    }
   ],
   "source": [
    "print(new_df.mean(),'\\n')\n",
    "print(new_df.std())"
   ]
  },
  {
   "cell_type": "markdown",
   "id": "fb1f6e33",
   "metadata": {},
   "source": [
    "### Q5. Replace the data present in the second row of column, ‘column_2’ by a string variable then find the mean of column, column_2. If you are getting errors in executing it then explain why.\n",
    "\n",
    "[Hint: To replace the data use df1.loc[] and \n",
    "equate this to string data of your choice.]"
   ]
  },
  {
   "cell_type": "code",
   "execution_count": 43,
   "id": "d4933ce5",
   "metadata": {},
   "outputs": [],
   "source": [
    "columns = ['column_1', 'column_2', 'column_3', 'column_4', 'column_5', 'column_6']\n",
    "\n",
    "indices = [1,2,3,4,5,6]\n",
    "\n",
    "df1 = pd.DataFrame(np.random.rand(6,6), columns = columns, index = indices)\n",
    "\n",
    "df1.loc[2, 'column_2'] = 'xyz'\n",
    "\n",
    "\n",
    "df1['column_2'].mean()"
   ]
  },
  {
   "cell_type": "markdown",
   "id": "364fcf6b",
   "metadata": {},
   "source": [
    "In this code we getting error unsupported operand type(s) for +: 'float' and 'str' which means we can calculate only numaric value not str type data\n"
   ]
  },
  {
   "cell_type": "markdown",
   "id": "2af73959",
   "metadata": {},
   "source": [
    "### Q6. What do you understand about the windows function in pandas and list the types of windows functions?"
   ]
  },
  {
   "cell_type": "markdown",
   "id": "cb6c7218",
   "metadata": {},
   "source": [
    "Ans. In pandas, a window function is a way to perform calculations on a set of data points within a specified window or range. It can be used to compute rolling statistics, such as rolling mean, rolling standard deviation, etc. A window function takes into account the previous and/or subsequent values in a data series, and it can be very useful for time series data analysis, financial analysis, and other data analysis applications.\n",
    "\n",
    "There are several types of window functions in pandas, including:\n",
    "\n",
    "1. Rolling Window Functions: These functions apply a function to a rolling window of data points, where the size of the window is specified by the user. Common rolling window functions include `rolling()`, `expanding()`, and `rolling_apply()`.\n",
    "\n",
    "2. Expanding Window Functions: These functions apply a function to all data points up to the current point. Common expanding window functions include `expanding()`, `cumsum()`, `cumprod()`, and `cummax()`.\n",
    "\n",
    "3. Exponentially-weighted Window Functions: These functions give more weight to recent data points and less weight to older data points. Common exponentially-weighted window functions include `ewma()` and `ewmstd()`.\n",
    "\n",
    "4. Grouped Window Functions: These functions apply a function to a rolling or expanding window of data points, but within each group of data defined by a specific key. Common grouped window functions include `groupby()` and `rolling().apply()`.\n",
    "\n",
    "Overall, window functions are powerful tools in pandas that can help you perform complex calculations on data sets with ease."
   ]
  },
  {
   "cell_type": "markdown",
   "id": "85a147ac",
   "metadata": {},
   "source": [
    "### Q7. Write a code to print only the current month and year at the time of answering this question. [Hint: Use pandas.datetime function]"
   ]
  },
  {
   "cell_type": "code",
   "execution_count": 48,
   "id": "360eeeff",
   "metadata": {},
   "outputs": [
    {
     "name": "stdout",
     "output_type": "stream",
     "text": [
      "Month:  4 year:  2023\n"
     ]
    },
    {
     "name": "stderr",
     "output_type": "stream",
     "text": [
      "C:\\Users\\bobir\\AppData\\Local\\Temp\\ipykernel_23268\\1681467371.py:2: FutureWarning: The pandas.datetime class is deprecated and will be removed from pandas in a future version. Import from datetime module instead.\n",
      "  dt = pd.datetime.now()\n"
     ]
    }
   ],
   "source": [
    "import datetime\n",
    "dt = pd.datetime.now()\n",
    "print('Month: ',dt.month,'year: ' ,dt.year)"
   ]
  },
  {
   "cell_type": "markdown",
   "id": "4d56b4ed",
   "metadata": {},
   "source": [
    "### Q8. Write a Python program that takes in two dates as input (in the format YYYY-MM-DD) and calculates the difference between them in days, hours, and minutes using Pandas time delta. The program should prompt the user to enter the dates and display the result."
   ]
  },
  {
   "cell_type": "code",
   "execution_count": 51,
   "id": "0e8e3e50",
   "metadata": {},
   "outputs": [
    {
     "name": "stdout",
     "output_type": "stream",
     "text": [
      "Enter the first date (YYYY-MM-DD): 2023-01-01\n",
      "The difference between the two dates is: \n",
      "115 days, 22 hours, 5 minutes.\n"
     ]
    },
    {
     "name": "stderr",
     "output_type": "stream",
     "text": [
      "C:\\Users\\bobir\\AppData\\Local\\Temp\\ipykernel_23268\\2043352587.py:7: FutureWarning: The pandas.datetime class is deprecated and will be removed from pandas in a future version. Import from datetime module instead.\n",
      "  date2 = pd.datetime.now()\n"
     ]
    }
   ],
   "source": [
    "import pandas as pd\n",
    "\n",
    "date1 = input(\"Enter the first date (YYYY-MM-DD): \")\n",
    "# date2 = input(\"Enter the second date (YYYY-MM-DD): \")\n",
    "\n",
    "date1 = pd.to_datetime(date1)\n",
    "date2 = pd.datetime.now()\n",
    "\n",
    "time_diff = date2 - date1\n",
    "\n",
    "days = time_diff.days\n",
    "hours = time_diff.seconds // 3600\n",
    "minutes = (time_diff.seconds % 3600) // 60\n",
    "\n",
    "print(\"The difference between the two dates is: \")\n",
    "print(days, \"days,\", hours, \"hours,\", minutes, \"minutes.\")"
   ]
  },
  {
   "cell_type": "markdown",
   "id": "3c3a227d",
   "metadata": {},
   "source": [
    "### Q9. Write a Python program that reads a CSV file containing categorical data and converts a specified column to a categorical data type. The program should prompt the user to enter the file path, column name, and category order, and then display the sorted data."
   ]
  },
  {
   "cell_type": "code",
   "execution_count": 8,
   "id": "f77e450a",
   "metadata": {},
   "outputs": [
    {
     "name": "stdout",
     "output_type": "stream",
     "text": [
      "Enter file path: StudentsPerformance.csv\n",
      "Enter column name: gender\n",
      "Enter category order (comma-separated): male,female\n",
      "     gender race/ethnicity parental level of education         lunch  \\\n",
      "499    male        group E                some college      standard   \n",
      "412    male        group D          associate's degree      standard   \n",
      "411    male        group E                some college      standard   \n",
      "409    male        group D          associate's degree      standard   \n",
      "796    male        group D                 high school      standard   \n",
      "..      ...            ...                         ...           ...   \n",
      "468  female        group A                 high school  free/reduced   \n",
      "470  female        group C          associate's degree      standard   \n",
      "471  female        group C                 high school      standard   \n",
      "456  female        group D           bachelor's degree      standard   \n",
      "999  female        group D                some college  free/reduced   \n",
      "\n",
      "    test preparation course  math score  reading score  writing score  \n",
      "499                    none          76             71             72  \n",
      "412                    none          71             66             60  \n",
      "411               completed          84             83             78  \n",
      "409               completed          87             84             85  \n",
      "796                    none          70             70             70  \n",
      "..                      ...         ...            ...            ...  \n",
      "468               completed          77             88             85  \n",
      "470               completed          83             85             90  \n",
      "471                    none          63             69             74  \n",
      "456                    none          79             89             89  \n",
      "999                    none          77             86             86  \n",
      "\n",
      "[1000 rows x 8 columns]\n"
     ]
    }
   ],
   "source": [
    "file_path = input(\"Enter file path: \")\n",
    "\n",
    "column_name = input(\"Enter column name: \")\n",
    "\n",
    "category_order = input(\"Enter category order (comma-separated): \").split(\",\")\n",
    "\n",
    "data = pd.read_csv(file_path)\n",
    "\n",
    "data[column_name] = pd.Categorical(data[column_name], categories=category_order, ordered=True)\n",
    "\n",
    "data_sorted = data.sort_values(by=[column_name])\n",
    "\n",
    "print(data_sorted)"
   ]
  },
  {
   "cell_type": "markdown",
   "id": "f111266b",
   "metadata": {},
   "source": [
    "### Q10. Write a Python program that reads a CSV file containing sales data for different products and visualizes the data using a stacked bar chart to show the sales of each product category over time. The program should prompt the user to enter the file path and display the chart."
   ]
  },
  {
   "cell_type": "code",
   "execution_count": 9,
   "id": "c7bfe3f9",
   "metadata": {},
   "outputs": [
    {
     "name": "stdout",
     "output_type": "stream",
     "text": [
      "Enter file path: test.text\n"
     ]
    },
    {
     "data": {
      "image/png": "[encoded data removed]",
      "text/plain": [
       "<Figure size 640x480 with 1 Axes>"
      ]
     },
     "metadata": {},
     "output_type": "display_data"
    }
   ],
   "source": [
    "import matplotlib.pyplot as plt\n",
    "\n",
    "file_path = input(\"Enter file path: \")\n",
    "data = pd.read_csv(file_path)\n",
    "category_sales = data.groupby(['Date', 'Product Category'])['Sales Amount'].sum().unstack()\n",
    "\n",
    "category_sales.plot(kind='bar', stacked=True)\n",
    "\n",
    "plt.title('Sales by Product Category over Time')\n",
    "plt.xlabel('Date')\n",
    "plt.ylabel('Sales')\n",
    "\n",
    "plt.show()"
   ]
  },
  {
   "cell_type": "markdown",
   "id": "519cbb19",
   "metadata": {},
   "source": [
    "### Q11. You are given a CSV file containing student data that includes the student ID and their test score. Write a Python program that reads the CSV file, calculates the mean, median, and mode of the test scores, and displays the results in a table.\n",
    "\n",
    "The program should do the followingM\n",
    "\n",
    "* I Prompt the user to enter the file path of the CSV file containing the student dataR\n",
    "* I Read the CSV file into a Pandas DataFrameR\n",
    "* I Calculate the mean, median, and mode of the test scores using Pandas toolsR\n",
    "* I Display the mean, median, and mode in a table."
   ]
  },
  {
   "cell_type": "code",
   "execution_count": 31,
   "id": "2e2922c2",
   "metadata": {},
   "outputs": [
    {
     "name": "stdout",
     "output_type": "stream",
     "text": [
      "Enter the file path of the CSV file containing the student data: student.csv\n",
      "Statistic Value\n",
      "     Mean  83.5\n",
      "   Median  85.0\n",
      "     Mode    85\n"
     ]
    }
   ],
   "source": [
    "import pandas as pd\n",
    "\n",
    "file_path = input(\"Enter the file path of the CSV file containing the student data: \")\n",
    "\n",
    "df = pd.read_csv(file_path)\n",
    "\n",
    "mean = df['Test Score'].mean()\n",
    "median = df['Test Score'].median()\n",
    "mode = df['Test Score'].mode()\n",
    "\n",
    "table = pd.DataFrame({'Statistic': ['Mean', 'Median', 'Mode'],\n",
    "                      'Value': [mean, median, ', '.join(map(str, mode))]})\n",
    "print(table.to_string(index=False))\n"
   ]
  },
  {
   "cell_type": "code",
   "execution_count": null,
   "id": "233c841e",
   "metadata": {},
   "outputs": [],
   "source": []
  }
 ],
 "metadata": {
  "kernelspec": {
   "display_name": "Python 3 (ipykernel)",
   "language": "python",
   "name": "python3"
  },
  "language_info": {
   "codemirror_mode": {
    "name": "ipython",
    "version": 3
   },
   "file_extension": ".py",
   "mimetype": "text/x-python",
   "name": "python",
   "nbconvert_exporter": "python",
   "pygments_lexer": "ipython3",
   "version": "3.9.13"
  }
 },
 "nbformat": 4,
 "nbformat_minor": 5
}
