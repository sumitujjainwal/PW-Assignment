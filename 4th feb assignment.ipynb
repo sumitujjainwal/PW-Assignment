{
 "cells": [
  {
   "cell_type": "code",
   "execution_count": 1,
   "id": "ac3b9ff0",
   "metadata": {},
   "outputs": [
    {
     "ename": "SyntaxError",
     "evalue": "invalid syntax (249506866.py, line 1)",
     "output_type": "error",
     "traceback": [
      "\u001b[1;36m  Input \u001b[1;32mIn [1]\u001b[1;36m\u001b[0m\n\u001b[1;33m    Q1. Create a python program to sort the given list of tuples based on integer value using a lambda function.\u001b[0m\n\u001b[1;37m               ^\u001b[0m\n\u001b[1;31mSyntaxError\u001b[0m\u001b[1;31m:\u001b[0m invalid syntax\n"
     ]
    }
   ],
   "source": [
    "Q1. Create a python program to sort the given list of tuples based on integer value using a lambda function.\n",
    "\n",
    "[('Sachin Tendulkar', 34357), ('Ricky Ponting', 27483), ('Jack Kallis', 25534), ('Virat Kohli', 24936)]\n",
    "# Q1 Answer\n",
    "l = ('Sachin Tendulkar', 34357), ('Ricky Ponting', 27483),('Jack Kallis', 25534), ('Virat Kohli', 24936)\n",
    "sort = sorted(l, key=lambda x: x[1])\n",
    "print(sort)\n",
    "[('Virat Kohli', 24936), ('Jack Kallis', 25534), ('Ricky Ponting', 27483), ('Sachin Tendulkar', 34357)]\n",
    "\n",
    "\n",
    "Q2. Write a Python Program to find the squares of all the numbers in the given list of integers using\n",
    "lambda and map functions.\n",
    "\n",
    "[1, 2, 3, 4, 5, 6, 7, 8, 9, 10]\n",
    "# Q2 Answer\n",
    "l1 = [1, 2, 3, 4, 5, 6, 7, 8, 9, 10]\n",
    "list(map(lambda x : x**2,l1))\n",
    "[1, 4, 9, 16, 25, 36, 49, 64, 81, 100]\n",
    "\n",
    "\n",
    "Q3. Write a python program to convert the given list of integers into a tuple of strings. Use map and\n",
    "lambda functions\n",
    "\n",
    "Given String: [1, 2, 3, 4, 5, 6, 7, 8, 9, 10]\n",
    "\n",
    "Expected output: ('1', '2', '3', '4', '5', '6', '7', '8', '9', '10')\n",
    "# Q3 Answer\n",
    "l2 = [1, 2, 3, 4, 5, 6, 7, 8, 9, 10]\n",
    "tuple(map(lambda x : str(x),l2))\n",
    "('1', '2', '3', '4', '5', '6', '7', '8', '9', '10')\n",
    "\n",
    "\n",
    "Q4. Write a python program using reduce function to compute the product of a list containing numbers\n",
    "from 1 to 25.\n",
    "# Q4 Answer\n",
    "from functools import reduce\n",
    "l3 = [x for x in range(1,26)]\n",
    "product = reduce(lambda x,y : x*y,l3)\n",
    "print(product)\n",
    "15511210043330985984000000\n",
    "\n",
    "\n",
    "Q5. Write a python program to filter the numbers in a given list that are divisible by 2 and 3 using the\n",
    "filter function.\n",
    "\n",
    "[2, 3, 6, 9, 27, 60, 90, 120, 55, 46]\n",
    "# Q5 Answer\n",
    "l4 = [2, 3, 6, 9, 27, 60, 90, 120, 55, 46]\n",
    "list(filter(lambda x : x%2 == 0 and x%3 == 0,l4))\n",
    "[6, 60, 90, 120]\n",
    "\n",
    "\n",
    "Q6. Write a python program to find palindromes in the given list of strings using lambda and filter\n",
    "function.\n",
    "\n",
    "['python', 'php', 'aba', 'radar', 'level']\n",
    "# Q6 Answer\n",
    "l5 = ['python', 'php', 'aba', 'radar', 'level']\n",
    "list(filter(lambda x : x==x[::-1],l5))\n",
    "['php', 'aba', 'radar', 'level']\n"
   ]
  },
  {
   "cell_type": "code",
   "execution_count": 2,
   "id": "b577fac6",
   "metadata": {},
   "outputs": [
    {
     "name": "stdout",
     "output_type": "stream",
     "text": [
      "Decorated\n",
      "Ordinary\n"
     ]
    }
   ],
   "source": [
    "def mk(x):\n",
    "\n",
    "    def mk1():\n",
    "\n",
    "        print(\"Decorated\")\n",
    "\n",
    "        x()\n",
    "\n",
    "    return mk1\n",
    "\n",
    "def mk2():\n",
    "\n",
    "    print(\"Ordinary\")\n",
    "\n",
    "p = mk(mk2)\n",
    "\n",
    "p()"
   ]
  },
  {
   "cell_type": "code",
   "execution_count": null,
   "id": "0765b405",
   "metadata": {},
   "outputs": [],
   "source": []
  }
 ],
 "metadata": {
  "kernelspec": {
   "display_name": "Python 3 (ipykernel)",
   "language": "python",
   "name": "python3"
  },
  "language_info": {
   "codemirror_mode": {
    "name": "ipython",
    "version": 3
   },
   "file_extension": ".py",
   "mimetype": "text/x-python",
   "name": "python",
   "nbconvert_exporter": "python",
   "pygments_lexer": "ipython3",
   "version": "3.9.12"
  }
 },
 "nbformat": 4,
 "nbformat_minor": 5
}
